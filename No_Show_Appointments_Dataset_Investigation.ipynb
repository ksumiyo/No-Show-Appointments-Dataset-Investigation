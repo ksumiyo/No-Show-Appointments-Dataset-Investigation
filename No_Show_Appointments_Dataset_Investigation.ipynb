{
 "cells": [
  {
   "cell_type": "markdown",
   "metadata": {},
   "source": [
    "# Project: Investigate a Dataset - [No Show Appointments]\n",
    "\n",
    "## Table of Contents\n",
    "<ul>\n",
    "<li><a href=\"#intro\">Introduction</a></li>\n",
    "<li><a href=\"#wrangling\">Data Wrangling</a></li>\n",
    "<li><a href=\"#eda\">Exploratory Data Analysis</a></li>\n",
    "<li><a href=\"#conclusions\">Conclusions</a></li>\n",
    "</ul>"
   ]
  },
  {
   "cell_type": "markdown",
   "metadata": {},
   "source": [
    "<a id='intro'></a>\n",
    "## Introduction\n",
    "\n",
    "### Dataset Description \n",
    "Today I will be investigating and analyzing the contents of the “No-show appointments” dataset. The dataset provides identifiers for patients and their appointments in the columns PatientID and AppointmentID.  We are also given basic demographic information about the patient in the Age, Gender, and Scholarship columns, as well as more specific medical information in the \"Hipertension\", Diabetes, Alcoholism, and Handcap columns. Finally, we are also given information more specific to the appointment, such as its location in the Neighbourhood column, when the appointment was made and the actual appointment day in ScheduledDay and AppointmentDay columns, whether an SMS was received or not from the patient in the column SMS_received, and ultimately whether or not the patient no showed in the column No-show.  \n",
    "\n",
    "### Question(s) for Analysis\n",
    "\n",
    "Using the dataset, I will explore and analyze the relationship between alcoholism, diabetes, hypertension, and the rate of no-shows from adult patients. Specifically, I will be focusing on answering the questions of \"What medical condition, if any, appears to result in the highest rate of no-shows with adult patients\", \"For any given medical condition, does the patient having additional conditions on top of that lead to a significant change in the rate of no-showing to the appointment\", and \"Does having more medical conditions appear to correlate with a higher or lower rate of no-shows from adult patients?\"\n"
   ]
  },
  {
   "cell_type": "markdown",
   "metadata": {},
   "source": [
    "<a id='wrangling'></a>\n",
    "# Data Wrangling\n",
    "\n",
    "### General Properties"
   ]
  },
  {
   "cell_type": "markdown",
   "metadata": {},
   "source": [
    "We'll start by importing the required packages."
   ]
  },
  {
   "cell_type": "code",
   "execution_count": 1,
   "metadata": {},
   "outputs": [],
   "source": [
    "#import pandas & numpy for data analysis, pyplot for plotting, seaborn for stylizing visualizations\n",
    "import pandas as pd \n",
    "import numpy as np \n",
    "import matplotlib.pyplot as plt\n",
    "import seaborn as sns\n",
    "\n",
    "sns.set_style('darkgrid')  #set a darker background for plot viewability\n",
    "\n",
    "%matplotlib inline \n"
   ]
  },
  {
   "cell_type": "code",
   "execution_count": 2,
   "metadata": {
    "scrolled": true
   },
   "outputs": [
    {
     "name": "stdout",
     "output_type": "stream",
     "text": [
      "Requirement already up-to-date: pandas==0.25.0 in /opt/conda/lib/python3.6/site-packages (0.25.0)\r\n",
      "Requirement already satisfied, skipping upgrade: numpy>=1.13.3 in /opt/conda/lib/python3.6/site-packages (from pandas==0.25.0) (1.19.5)\r\n",
      "Requirement already satisfied, skipping upgrade: python-dateutil>=2.6.1 in /opt/conda/lib/python3.6/site-packages (from pandas==0.25.0) (2.6.1)\r\n",
      "Requirement already satisfied, skipping upgrade: pytz>=2017.2 in /opt/conda/lib/python3.6/site-packages (from pandas==0.25.0) (2017.3)\r\n",
      "Requirement already satisfied, skipping upgrade: six>=1.5 in /opt/conda/lib/python3.6/site-packages (from python-dateutil>=2.6.1->pandas==0.25.0) (1.11.0)\r\n"
     ]
    }
   ],
   "source": [
    "# Upgrade pandas to use dataframe.explode() function. \n",
    "!pip install --upgrade pandas==0.25.0"
   ]
  },
  {
   "cell_type": "markdown",
   "metadata": {},
   "source": [
    "We can now load the dataset and perform some basic operations/methods to inspect what will need to be trimmed, altered or cleaned later. After each operation, I will be making small notes of what I would like to change, and compile these later in the section before performing any trimming or cleaning."
   ]
  },
  {
   "cell_type": "code",
   "execution_count": 3,
   "metadata": {},
   "outputs": [],
   "source": [
    "df = pd.read_csv('Database_No_show_appointments/noshowappointments-kagglev2-may-2016.csv')  # Load the dataset"
   ]
  },
  {
   "cell_type": "code",
   "execution_count": 4,
   "metadata": {
    "scrolled": true
   },
   "outputs": [
    {
     "data": {
      "text/html": [
       "<div>\n",
       "<style scoped>\n",
       "    .dataframe tbody tr th:only-of-type {\n",
       "        vertical-align: middle;\n",
       "    }\n",
       "\n",
       "    .dataframe tbody tr th {\n",
       "        vertical-align: top;\n",
       "    }\n",
       "\n",
       "    .dataframe thead th {\n",
       "        text-align: right;\n",
       "    }\n",
       "</style>\n",
       "<table border=\"1\" class=\"dataframe\">\n",
       "  <thead>\n",
       "    <tr style=\"text-align: right;\">\n",
       "      <th></th>\n",
       "      <th>PatientId</th>\n",
       "      <th>AppointmentID</th>\n",
       "      <th>Gender</th>\n",
       "      <th>ScheduledDay</th>\n",
       "      <th>AppointmentDay</th>\n",
       "      <th>Age</th>\n",
       "      <th>Neighbourhood</th>\n",
       "      <th>Scholarship</th>\n",
       "      <th>Hipertension</th>\n",
       "      <th>Diabetes</th>\n",
       "      <th>Alcoholism</th>\n",
       "      <th>Handcap</th>\n",
       "      <th>SMS_received</th>\n",
       "      <th>No-show</th>\n",
       "    </tr>\n",
       "  </thead>\n",
       "  <tbody>\n",
       "    <tr>\n",
       "      <th>0</th>\n",
       "      <td>2.987250e+13</td>\n",
       "      <td>5642903</td>\n",
       "      <td>F</td>\n",
       "      <td>2016-04-29T18:38:08Z</td>\n",
       "      <td>2016-04-29T00:00:00Z</td>\n",
       "      <td>62</td>\n",
       "      <td>JARDIM DA PENHA</td>\n",
       "      <td>0</td>\n",
       "      <td>1</td>\n",
       "      <td>0</td>\n",
       "      <td>0</td>\n",
       "      <td>0</td>\n",
       "      <td>0</td>\n",
       "      <td>No</td>\n",
       "    </tr>\n",
       "    <tr>\n",
       "      <th>1</th>\n",
       "      <td>5.589978e+14</td>\n",
       "      <td>5642503</td>\n",
       "      <td>M</td>\n",
       "      <td>2016-04-29T16:08:27Z</td>\n",
       "      <td>2016-04-29T00:00:00Z</td>\n",
       "      <td>56</td>\n",
       "      <td>JARDIM DA PENHA</td>\n",
       "      <td>0</td>\n",
       "      <td>0</td>\n",
       "      <td>0</td>\n",
       "      <td>0</td>\n",
       "      <td>0</td>\n",
       "      <td>0</td>\n",
       "      <td>No</td>\n",
       "    </tr>\n",
       "    <tr>\n",
       "      <th>2</th>\n",
       "      <td>4.262962e+12</td>\n",
       "      <td>5642549</td>\n",
       "      <td>F</td>\n",
       "      <td>2016-04-29T16:19:04Z</td>\n",
       "      <td>2016-04-29T00:00:00Z</td>\n",
       "      <td>62</td>\n",
       "      <td>MATA DA PRAIA</td>\n",
       "      <td>0</td>\n",
       "      <td>0</td>\n",
       "      <td>0</td>\n",
       "      <td>0</td>\n",
       "      <td>0</td>\n",
       "      <td>0</td>\n",
       "      <td>No</td>\n",
       "    </tr>\n",
       "    <tr>\n",
       "      <th>3</th>\n",
       "      <td>8.679512e+11</td>\n",
       "      <td>5642828</td>\n",
       "      <td>F</td>\n",
       "      <td>2016-04-29T17:29:31Z</td>\n",
       "      <td>2016-04-29T00:00:00Z</td>\n",
       "      <td>8</td>\n",
       "      <td>PONTAL DE CAMBURI</td>\n",
       "      <td>0</td>\n",
       "      <td>0</td>\n",
       "      <td>0</td>\n",
       "      <td>0</td>\n",
       "      <td>0</td>\n",
       "      <td>0</td>\n",
       "      <td>No</td>\n",
       "    </tr>\n",
       "    <tr>\n",
       "      <th>4</th>\n",
       "      <td>8.841186e+12</td>\n",
       "      <td>5642494</td>\n",
       "      <td>F</td>\n",
       "      <td>2016-04-29T16:07:23Z</td>\n",
       "      <td>2016-04-29T00:00:00Z</td>\n",
       "      <td>56</td>\n",
       "      <td>JARDIM DA PENHA</td>\n",
       "      <td>0</td>\n",
       "      <td>1</td>\n",
       "      <td>1</td>\n",
       "      <td>0</td>\n",
       "      <td>0</td>\n",
       "      <td>0</td>\n",
       "      <td>No</td>\n",
       "    </tr>\n",
       "  </tbody>\n",
       "</table>\n",
       "</div>"
      ],
      "text/plain": [
       "      PatientId  AppointmentID Gender          ScheduledDay  \\\n",
       "0  2.987250e+13        5642903      F  2016-04-29T18:38:08Z   \n",
       "1  5.589978e+14        5642503      M  2016-04-29T16:08:27Z   \n",
       "2  4.262962e+12        5642549      F  2016-04-29T16:19:04Z   \n",
       "3  8.679512e+11        5642828      F  2016-04-29T17:29:31Z   \n",
       "4  8.841186e+12        5642494      F  2016-04-29T16:07:23Z   \n",
       "\n",
       "         AppointmentDay  Age      Neighbourhood  Scholarship  Hipertension  \\\n",
       "0  2016-04-29T00:00:00Z   62    JARDIM DA PENHA            0             1   \n",
       "1  2016-04-29T00:00:00Z   56    JARDIM DA PENHA            0             0   \n",
       "2  2016-04-29T00:00:00Z   62      MATA DA PRAIA            0             0   \n",
       "3  2016-04-29T00:00:00Z    8  PONTAL DE CAMBURI            0             0   \n",
       "4  2016-04-29T00:00:00Z   56    JARDIM DA PENHA            0             1   \n",
       "\n",
       "   Diabetes  Alcoholism  Handcap  SMS_received No-show  \n",
       "0         0           0        0             0      No  \n",
       "1         0           0        0             0      No  \n",
       "2         0           0        0             0      No  \n",
       "3         0           0        0             0      No  \n",
       "4         1           0        0             0      No  "
      ]
     },
     "execution_count": 4,
     "metadata": {},
     "output_type": "execute_result"
    }
   ],
   "source": [
    "df.head()  # Take a quick look at how the the data is presented/recorded in the dataset"
   ]
  },
  {
   "cell_type": "markdown",
   "metadata": {},
   "source": [
    "There are some misspellings, the data would be easier to work with if it were all lowercase, and most columns are unnecessary and will need to be dropped. We'll handle this after the rest of our initial inspection."
   ]
  },
  {
   "cell_type": "markdown",
   "metadata": {},
   "source": [
    "Next, we'll check for any unusual datatypes"
   ]
  },
  {
   "cell_type": "code",
   "execution_count": 5,
   "metadata": {
    "scrolled": false
   },
   "outputs": [
    {
     "data": {
      "text/plain": [
       "PatientId         float64\n",
       "AppointmentID       int64\n",
       "Gender             object\n",
       "ScheduledDay       object\n",
       "AppointmentDay     object\n",
       "Age                 int64\n",
       "Neighbourhood      object\n",
       "Scholarship         int64\n",
       "Hipertension        int64\n",
       "Diabetes            int64\n",
       "Alcoholism          int64\n",
       "Handcap             int64\n",
       "SMS_received        int64\n",
       "No-show            object\n",
       "dtype: object"
      ]
     },
     "execution_count": 5,
     "metadata": {},
     "output_type": "execute_result"
    }
   ],
   "source": [
    "df.dtypes  # Check the datatypes of each column"
   ]
  },
  {
   "cell_type": "markdown",
   "metadata": {},
   "source": [
    "Although there isn't anything *wrong* with no-show being recorded as a string of yes or no, it might be easier to use for analysis later if we converted it to an integer, 0 representing \"no\" and 1 representing \"yes\"."
   ]
  },
  {
   "cell_type": "markdown",
   "metadata": {},
   "source": [
    "Next, we'll check for missing values"
   ]
  },
  {
   "cell_type": "code",
   "execution_count": 6,
   "metadata": {
    "scrolled": false
   },
   "outputs": [
    {
     "name": "stdout",
     "output_type": "stream",
     "text": [
      "<class 'pandas.core.frame.DataFrame'>\n",
      "RangeIndex: 110527 entries, 0 to 110526\n",
      "Data columns (total 14 columns):\n",
      "PatientId         110527 non-null float64\n",
      "AppointmentID     110527 non-null int64\n",
      "Gender            110527 non-null object\n",
      "ScheduledDay      110527 non-null object\n",
      "AppointmentDay    110527 non-null object\n",
      "Age               110527 non-null int64\n",
      "Neighbourhood     110527 non-null object\n",
      "Scholarship       110527 non-null int64\n",
      "Hipertension      110527 non-null int64\n",
      "Diabetes          110527 non-null int64\n",
      "Alcoholism        110527 non-null int64\n",
      "Handcap           110527 non-null int64\n",
      "SMS_received      110527 non-null int64\n",
      "No-show           110527 non-null object\n",
      "dtypes: float64(1), int64(8), object(5)\n",
      "memory usage: 11.8+ MB\n"
     ]
    }
   ],
   "source": [
    "df.info() # Check the number of total entries and entries for each column"
   ]
  },
  {
   "cell_type": "markdown",
   "metadata": {},
   "source": [
    "Thankfully, the RangeIndex shows 110527 rows, and all columns have exactly that amount of entries."
   ]
  },
  {
   "cell_type": "markdown",
   "metadata": {},
   "source": [
    "Next, we'll check for duplicate rows, which would need to be dropped."
   ]
  },
  {
   "cell_type": "code",
   "execution_count": 7,
   "metadata": {},
   "outputs": [
    {
     "data": {
      "text/plain": [
       "0"
      ]
     },
     "execution_count": 7,
     "metadata": {},
     "output_type": "execute_result"
    }
   ],
   "source": [
    "sum(df.duplicated()) #check how many rows are duplicates of each other"
   ]
  },
  {
   "cell_type": "markdown",
   "metadata": {},
   "source": [
    "No rows have been entered in as duplicates.\n"
   ]
  },
  {
   "cell_type": "markdown",
   "metadata": {},
   "source": [
    "We'll now check the number of different unique values each column has."
   ]
  },
  {
   "cell_type": "code",
   "execution_count": 8,
   "metadata": {},
   "outputs": [
    {
     "data": {
      "text/plain": [
       "PatientId          62299\n",
       "AppointmentID     110527\n",
       "Gender                 2\n",
       "ScheduledDay      103549\n",
       "AppointmentDay        27\n",
       "Age                  104\n",
       "Neighbourhood         81\n",
       "Scholarship            2\n",
       "Hipertension           2\n",
       "Diabetes               2\n",
       "Alcoholism             2\n",
       "Handcap                5\n",
       "SMS_received           2\n",
       "No-show                2\n",
       "dtype: int64"
      ]
     },
     "execution_count": 8,
     "metadata": {},
     "output_type": "execute_result"
    }
   ],
   "source": [
    "df.nunique()  #check if any column has an unusual number of unique values"
   ]
  },
  {
   "cell_type": "markdown",
   "metadata": {},
   "source": [
    "To give us more perspective on the statistics of these values, we'll turn to the describe() method below."
   ]
  },
  {
   "cell_type": "code",
   "execution_count": 9,
   "metadata": {
    "scrolled": true
   },
   "outputs": [
    {
     "data": {
      "text/html": [
       "<div>\n",
       "<style scoped>\n",
       "    .dataframe tbody tr th:only-of-type {\n",
       "        vertical-align: middle;\n",
       "    }\n",
       "\n",
       "    .dataframe tbody tr th {\n",
       "        vertical-align: top;\n",
       "    }\n",
       "\n",
       "    .dataframe thead th {\n",
       "        text-align: right;\n",
       "    }\n",
       "</style>\n",
       "<table border=\"1\" class=\"dataframe\">\n",
       "  <thead>\n",
       "    <tr style=\"text-align: right;\">\n",
       "      <th></th>\n",
       "      <th>PatientId</th>\n",
       "      <th>AppointmentID</th>\n",
       "      <th>Age</th>\n",
       "      <th>Scholarship</th>\n",
       "      <th>Hipertension</th>\n",
       "      <th>Diabetes</th>\n",
       "      <th>Alcoholism</th>\n",
       "      <th>Handcap</th>\n",
       "      <th>SMS_received</th>\n",
       "    </tr>\n",
       "  </thead>\n",
       "  <tbody>\n",
       "    <tr>\n",
       "      <th>count</th>\n",
       "      <td>1.105270e+05</td>\n",
       "      <td>1.105270e+05</td>\n",
       "      <td>110527.000000</td>\n",
       "      <td>110527.000000</td>\n",
       "      <td>110527.000000</td>\n",
       "      <td>110527.000000</td>\n",
       "      <td>110527.000000</td>\n",
       "      <td>110527.000000</td>\n",
       "      <td>110527.000000</td>\n",
       "    </tr>\n",
       "    <tr>\n",
       "      <th>mean</th>\n",
       "      <td>1.474963e+14</td>\n",
       "      <td>5.675305e+06</td>\n",
       "      <td>37.088874</td>\n",
       "      <td>0.098266</td>\n",
       "      <td>0.197246</td>\n",
       "      <td>0.071865</td>\n",
       "      <td>0.030400</td>\n",
       "      <td>0.022248</td>\n",
       "      <td>0.321026</td>\n",
       "    </tr>\n",
       "    <tr>\n",
       "      <th>std</th>\n",
       "      <td>2.560949e+14</td>\n",
       "      <td>7.129575e+04</td>\n",
       "      <td>23.110205</td>\n",
       "      <td>0.297675</td>\n",
       "      <td>0.397921</td>\n",
       "      <td>0.258265</td>\n",
       "      <td>0.171686</td>\n",
       "      <td>0.161543</td>\n",
       "      <td>0.466873</td>\n",
       "    </tr>\n",
       "    <tr>\n",
       "      <th>min</th>\n",
       "      <td>3.921784e+04</td>\n",
       "      <td>5.030230e+06</td>\n",
       "      <td>-1.000000</td>\n",
       "      <td>0.000000</td>\n",
       "      <td>0.000000</td>\n",
       "      <td>0.000000</td>\n",
       "      <td>0.000000</td>\n",
       "      <td>0.000000</td>\n",
       "      <td>0.000000</td>\n",
       "    </tr>\n",
       "    <tr>\n",
       "      <th>25%</th>\n",
       "      <td>4.172614e+12</td>\n",
       "      <td>5.640286e+06</td>\n",
       "      <td>18.000000</td>\n",
       "      <td>0.000000</td>\n",
       "      <td>0.000000</td>\n",
       "      <td>0.000000</td>\n",
       "      <td>0.000000</td>\n",
       "      <td>0.000000</td>\n",
       "      <td>0.000000</td>\n",
       "    </tr>\n",
       "    <tr>\n",
       "      <th>50%</th>\n",
       "      <td>3.173184e+13</td>\n",
       "      <td>5.680573e+06</td>\n",
       "      <td>37.000000</td>\n",
       "      <td>0.000000</td>\n",
       "      <td>0.000000</td>\n",
       "      <td>0.000000</td>\n",
       "      <td>0.000000</td>\n",
       "      <td>0.000000</td>\n",
       "      <td>0.000000</td>\n",
       "    </tr>\n",
       "    <tr>\n",
       "      <th>75%</th>\n",
       "      <td>9.439172e+13</td>\n",
       "      <td>5.725524e+06</td>\n",
       "      <td>55.000000</td>\n",
       "      <td>0.000000</td>\n",
       "      <td>0.000000</td>\n",
       "      <td>0.000000</td>\n",
       "      <td>0.000000</td>\n",
       "      <td>0.000000</td>\n",
       "      <td>1.000000</td>\n",
       "    </tr>\n",
       "    <tr>\n",
       "      <th>max</th>\n",
       "      <td>9.999816e+14</td>\n",
       "      <td>5.790484e+06</td>\n",
       "      <td>115.000000</td>\n",
       "      <td>1.000000</td>\n",
       "      <td>1.000000</td>\n",
       "      <td>1.000000</td>\n",
       "      <td>1.000000</td>\n",
       "      <td>4.000000</td>\n",
       "      <td>1.000000</td>\n",
       "    </tr>\n",
       "  </tbody>\n",
       "</table>\n",
       "</div>"
      ],
      "text/plain": [
       "          PatientId  AppointmentID            Age    Scholarship  \\\n",
       "count  1.105270e+05   1.105270e+05  110527.000000  110527.000000   \n",
       "mean   1.474963e+14   5.675305e+06      37.088874       0.098266   \n",
       "std    2.560949e+14   7.129575e+04      23.110205       0.297675   \n",
       "min    3.921784e+04   5.030230e+06      -1.000000       0.000000   \n",
       "25%    4.172614e+12   5.640286e+06      18.000000       0.000000   \n",
       "50%    3.173184e+13   5.680573e+06      37.000000       0.000000   \n",
       "75%    9.439172e+13   5.725524e+06      55.000000       0.000000   \n",
       "max    9.999816e+14   5.790484e+06     115.000000       1.000000   \n",
       "\n",
       "        Hipertension       Diabetes     Alcoholism        Handcap  \\\n",
       "count  110527.000000  110527.000000  110527.000000  110527.000000   \n",
       "mean        0.197246       0.071865       0.030400       0.022248   \n",
       "std         0.397921       0.258265       0.171686       0.161543   \n",
       "min         0.000000       0.000000       0.000000       0.000000   \n",
       "25%         0.000000       0.000000       0.000000       0.000000   \n",
       "50%         0.000000       0.000000       0.000000       0.000000   \n",
       "75%         0.000000       0.000000       0.000000       0.000000   \n",
       "max         1.000000       1.000000       1.000000       4.000000   \n",
       "\n",
       "        SMS_received  \n",
       "count  110527.000000  \n",
       "mean        0.321026  \n",
       "std         0.466873  \n",
       "min         0.000000  \n",
       "25%         0.000000  \n",
       "50%         0.000000  \n",
       "75%         1.000000  \n",
       "max         1.000000  "
      ]
     },
     "execution_count": 9,
     "metadata": {},
     "output_type": "execute_result"
    }
   ],
   "source": [
    "df.describe() #use describe() to return statistics on values for each column"
   ]
  },
  {
   "cell_type": "markdown",
   "metadata": {},
   "source": [
    "nunique() and describe() have shown us two unusual aspects of the data: \n",
    "\n",
    "* age has a minimum value of -1.\n",
    "* handicap (or \"handcap\") has 5 unique values as opposed to the other medical conditions' 2 values. \n",
    "\n",
    "Before we trim or alter anything about our data, we'll examine the rows with a recorded age of -1, as well as take a closer look at the distribution of handcap. "
   ]
  },
  {
   "cell_type": "code",
   "execution_count": 10,
   "metadata": {
    "scrolled": true
   },
   "outputs": [
    {
     "data": {
      "text/html": [
       "<div>\n",
       "<style scoped>\n",
       "    .dataframe tbody tr th:only-of-type {\n",
       "        vertical-align: middle;\n",
       "    }\n",
       "\n",
       "    .dataframe tbody tr th {\n",
       "        vertical-align: top;\n",
       "    }\n",
       "\n",
       "    .dataframe thead th {\n",
       "        text-align: right;\n",
       "    }\n",
       "</style>\n",
       "<table border=\"1\" class=\"dataframe\">\n",
       "  <thead>\n",
       "    <tr style=\"text-align: right;\">\n",
       "      <th></th>\n",
       "      <th>PatientId</th>\n",
       "      <th>AppointmentID</th>\n",
       "      <th>Gender</th>\n",
       "      <th>ScheduledDay</th>\n",
       "      <th>AppointmentDay</th>\n",
       "      <th>Age</th>\n",
       "      <th>Neighbourhood</th>\n",
       "      <th>Scholarship</th>\n",
       "      <th>Hipertension</th>\n",
       "      <th>Diabetes</th>\n",
       "      <th>Alcoholism</th>\n",
       "      <th>Handcap</th>\n",
       "      <th>SMS_received</th>\n",
       "      <th>No-show</th>\n",
       "    </tr>\n",
       "  </thead>\n",
       "  <tbody>\n",
       "    <tr>\n",
       "      <th>99832</th>\n",
       "      <td>4.659432e+14</td>\n",
       "      <td>5775010</td>\n",
       "      <td>F</td>\n",
       "      <td>2016-06-06T08:58:13Z</td>\n",
       "      <td>2016-06-06T00:00:00Z</td>\n",
       "      <td>-1</td>\n",
       "      <td>ROMÃO</td>\n",
       "      <td>0</td>\n",
       "      <td>0</td>\n",
       "      <td>0</td>\n",
       "      <td>0</td>\n",
       "      <td>0</td>\n",
       "      <td>0</td>\n",
       "      <td>No</td>\n",
       "    </tr>\n",
       "  </tbody>\n",
       "</table>\n",
       "</div>"
      ],
      "text/plain": [
       "          PatientId  AppointmentID Gender          ScheduledDay  \\\n",
       "99832  4.659432e+14        5775010      F  2016-06-06T08:58:13Z   \n",
       "\n",
       "             AppointmentDay  Age Neighbourhood  Scholarship  Hipertension  \\\n",
       "99832  2016-06-06T00:00:00Z   -1         ROMÃO            0             0   \n",
       "\n",
       "       Diabetes  Alcoholism  Handcap  SMS_received No-show  \n",
       "99832         0           0        0             0      No  "
      ]
     },
     "execution_count": 10,
     "metadata": {},
     "output_type": "execute_result"
    }
   ],
   "source": [
    "#Let's start with the age discrepancy.\n",
    "\n",
    "df.query('Age == -1') #return the rows with an age of -1"
   ]
  },
  {
   "cell_type": "markdown",
   "metadata": {},
   "source": [
    "Only one row shows the age anomaly. Since our research questions focus on the no-show rate of legal adults, we'll be creating a new dataframe that only includes patients ages 18 and over, a step that will automatically \"drop\" or exclude this row anyway, so no further action needs to be taken."
   ]
  },
  {
   "cell_type": "markdown",
   "metadata": {},
   "source": [
    "Next, we'll look a closer look at the handicap values by grouping them up. We won't be using handicap for our analysis later, but this will ensure that there aren't any rows with strange handicap values, which may have to be dropped depending on severity and prevalence."
   ]
  },
  {
   "cell_type": "code",
   "execution_count": 11,
   "metadata": {},
   "outputs": [
    {
     "data": {
      "text/html": [
       "<div>\n",
       "<style scoped>\n",
       "    .dataframe tbody tr th:only-of-type {\n",
       "        vertical-align: middle;\n",
       "    }\n",
       "\n",
       "    .dataframe tbody tr th {\n",
       "        vertical-align: top;\n",
       "    }\n",
       "\n",
       "    .dataframe thead th {\n",
       "        text-align: right;\n",
       "    }\n",
       "</style>\n",
       "<table border=\"1\" class=\"dataframe\">\n",
       "  <thead>\n",
       "    <tr style=\"text-align: right;\">\n",
       "      <th></th>\n",
       "      <th>PatientId</th>\n",
       "      <th>AppointmentID</th>\n",
       "      <th>Gender</th>\n",
       "      <th>ScheduledDay</th>\n",
       "      <th>AppointmentDay</th>\n",
       "      <th>Age</th>\n",
       "      <th>Neighbourhood</th>\n",
       "      <th>Scholarship</th>\n",
       "      <th>Hipertension</th>\n",
       "      <th>Diabetes</th>\n",
       "      <th>Alcoholism</th>\n",
       "      <th>SMS_received</th>\n",
       "      <th>No-show</th>\n",
       "    </tr>\n",
       "    <tr>\n",
       "      <th>Handcap</th>\n",
       "      <th></th>\n",
       "      <th></th>\n",
       "      <th></th>\n",
       "      <th></th>\n",
       "      <th></th>\n",
       "      <th></th>\n",
       "      <th></th>\n",
       "      <th></th>\n",
       "      <th></th>\n",
       "      <th></th>\n",
       "      <th></th>\n",
       "      <th></th>\n",
       "      <th></th>\n",
       "    </tr>\n",
       "  </thead>\n",
       "  <tbody>\n",
       "    <tr>\n",
       "      <th>0</th>\n",
       "      <td>108286</td>\n",
       "      <td>108286</td>\n",
       "      <td>108286</td>\n",
       "      <td>108286</td>\n",
       "      <td>108286</td>\n",
       "      <td>108286</td>\n",
       "      <td>108286</td>\n",
       "      <td>108286</td>\n",
       "      <td>108286</td>\n",
       "      <td>108286</td>\n",
       "      <td>108286</td>\n",
       "      <td>108286</td>\n",
       "      <td>108286</td>\n",
       "    </tr>\n",
       "    <tr>\n",
       "      <th>1</th>\n",
       "      <td>2042</td>\n",
       "      <td>2042</td>\n",
       "      <td>2042</td>\n",
       "      <td>2042</td>\n",
       "      <td>2042</td>\n",
       "      <td>2042</td>\n",
       "      <td>2042</td>\n",
       "      <td>2042</td>\n",
       "      <td>2042</td>\n",
       "      <td>2042</td>\n",
       "      <td>2042</td>\n",
       "      <td>2042</td>\n",
       "      <td>2042</td>\n",
       "    </tr>\n",
       "    <tr>\n",
       "      <th>2</th>\n",
       "      <td>183</td>\n",
       "      <td>183</td>\n",
       "      <td>183</td>\n",
       "      <td>183</td>\n",
       "      <td>183</td>\n",
       "      <td>183</td>\n",
       "      <td>183</td>\n",
       "      <td>183</td>\n",
       "      <td>183</td>\n",
       "      <td>183</td>\n",
       "      <td>183</td>\n",
       "      <td>183</td>\n",
       "      <td>183</td>\n",
       "    </tr>\n",
       "    <tr>\n",
       "      <th>3</th>\n",
       "      <td>13</td>\n",
       "      <td>13</td>\n",
       "      <td>13</td>\n",
       "      <td>13</td>\n",
       "      <td>13</td>\n",
       "      <td>13</td>\n",
       "      <td>13</td>\n",
       "      <td>13</td>\n",
       "      <td>13</td>\n",
       "      <td>13</td>\n",
       "      <td>13</td>\n",
       "      <td>13</td>\n",
       "      <td>13</td>\n",
       "    </tr>\n",
       "    <tr>\n",
       "      <th>4</th>\n",
       "      <td>3</td>\n",
       "      <td>3</td>\n",
       "      <td>3</td>\n",
       "      <td>3</td>\n",
       "      <td>3</td>\n",
       "      <td>3</td>\n",
       "      <td>3</td>\n",
       "      <td>3</td>\n",
       "      <td>3</td>\n",
       "      <td>3</td>\n",
       "      <td>3</td>\n",
       "      <td>3</td>\n",
       "      <td>3</td>\n",
       "    </tr>\n",
       "  </tbody>\n",
       "</table>\n",
       "</div>"
      ],
      "text/plain": [
       "         PatientId  AppointmentID  Gender  ScheduledDay  AppointmentDay  \\\n",
       "Handcap                                                                   \n",
       "0           108286         108286  108286        108286          108286   \n",
       "1             2042           2042    2042          2042            2042   \n",
       "2              183            183     183           183             183   \n",
       "3               13             13      13            13              13   \n",
       "4                3              3       3             3               3   \n",
       "\n",
       "            Age  Neighbourhood  Scholarship  Hipertension  Diabetes  \\\n",
       "Handcap                                                               \n",
       "0        108286         108286       108286        108286    108286   \n",
       "1          2042           2042         2042          2042      2042   \n",
       "2           183            183          183           183       183   \n",
       "3            13             13           13            13        13   \n",
       "4             3              3            3             3         3   \n",
       "\n",
       "         Alcoholism  SMS_received  No-show  \n",
       "Handcap                                     \n",
       "0            108286        108286   108286  \n",
       "1              2042          2042     2042  \n",
       "2               183           183      183  \n",
       "3                13            13       13  \n",
       "4                 3             3        3  "
      ]
     },
     "execution_count": 11,
     "metadata": {},
     "output_type": "execute_result"
    }
   ],
   "source": [
    "df.groupby('Handcap').count() #view how many rows each value of handcap is recorded in"
   ]
  },
  {
   "cell_type": "markdown",
   "metadata": {},
   "source": [
    "The descending relationship between handicap rating and the counts of that rating in the dataset suggests that handicap has been recorded on a scale of severity.  Although we are not provided enough information to determine how these values were assigned, we do not need to be concerned about wrangling or cleaning this aspect of the dataset, as we'll be dropping it anyway."
   ]
  },
  {
   "cell_type": "markdown",
   "metadata": {},
   "source": [
    "\n",
    "### Data Cleaning"
   ]
  },
  {
   "cell_type": "markdown",
   "metadata": {},
   "source": [
    "Now that we've finished inspecting the data, here is an overview of what will be trimmed or altered in the remainder of this section to make the dataset more useful and easier to interpret for analysis later:\n",
    "\n",
    "* Since our analysis focuses on adult patients, we'll recreate the dataframe to only include patients of ages 18 and over.\n",
    "* The columns we won't use will be dropped, leaving only: Hipertension, Diabetes, Alcoholism, No-show.\n",
    "* Spelling corrections: No-show should be No_show, Hipertension should be Hypertension.\n",
    "* For simplicity's sake, all column names should be changed to lowercase.\n",
    "* No-show should be converted to an integer, 1 representing Yes and 0 representing No\n"
   ]
  },
  {
   "cell_type": "markdown",
   "metadata": {},
   "source": [
    "First, we'll cut out all entries for patients under the age of 18 by recreating the dataframe to include only rows with a recorded age of 18 and over."
   ]
  },
  {
   "cell_type": "code",
   "execution_count": 12,
   "metadata": {},
   "outputs": [
    {
     "data": {
      "text/plain": [
       "18"
      ]
     },
     "execution_count": 12,
     "metadata": {},
     "output_type": "execute_result"
    }
   ],
   "source": [
    "df = df.query('Age >= 18')  #recreate df using only rows where age is 18 or higher\n",
    "\n",
    "df['Age'].min()  #check that the minimum value of age is now 18"
   ]
  },
  {
   "cell_type": "markdown",
   "metadata": {},
   "source": [
    "Since we no longer need the Age column, we'll drop all columns that will not be used in our analysis."
   ]
  },
  {
   "cell_type": "code",
   "execution_count": 13,
   "metadata": {},
   "outputs": [
    {
     "data": {
      "text/html": [
       "<div>\n",
       "<style scoped>\n",
       "    .dataframe tbody tr th:only-of-type {\n",
       "        vertical-align: middle;\n",
       "    }\n",
       "\n",
       "    .dataframe tbody tr th {\n",
       "        vertical-align: top;\n",
       "    }\n",
       "\n",
       "    .dataframe thead th {\n",
       "        text-align: right;\n",
       "    }\n",
       "</style>\n",
       "<table border=\"1\" class=\"dataframe\">\n",
       "  <thead>\n",
       "    <tr style=\"text-align: right;\">\n",
       "      <th></th>\n",
       "      <th>Hipertension</th>\n",
       "      <th>Diabetes</th>\n",
       "      <th>Alcoholism</th>\n",
       "      <th>No-show</th>\n",
       "    </tr>\n",
       "  </thead>\n",
       "  <tbody>\n",
       "  </tbody>\n",
       "</table>\n",
       "</div>"
      ],
      "text/plain": [
       "Empty DataFrame\n",
       "Columns: [Hipertension, Diabetes, Alcoholism, No-show]\n",
       "Index: []"
      ]
     },
     "execution_count": 13,
     "metadata": {},
     "output_type": "execute_result"
    }
   ],
   "source": [
    "#drop Age, PatientId, AppointmentID, Gender, ScheduledDay, AppointmentDay, Neighbourhood, Scholarship, Handcap, SMS_received columns\n",
    "\n",
    "df.drop(['Age','PatientId','AppointmentID','Gender','ScheduledDay','AppointmentDay','Neighbourhood','Scholarship','Handcap','SMS_received'],axis=1,inplace=True)\n",
    "\n",
    "df.head(0) #check that the only remaining columns are Hipertension, Diabetes, Alcoholism, No-show"
   ]
  },
  {
   "cell_type": "markdown",
   "metadata": {},
   "source": [
    "Next, we'll make spelling corrections and make the column names lowercase:"
   ]
  },
  {
   "cell_type": "code",
   "execution_count": 14,
   "metadata": {},
   "outputs": [
    {
     "data": {
      "text/html": [
       "<div>\n",
       "<style scoped>\n",
       "    .dataframe tbody tr th:only-of-type {\n",
       "        vertical-align: middle;\n",
       "    }\n",
       "\n",
       "    .dataframe tbody tr th {\n",
       "        vertical-align: top;\n",
       "    }\n",
       "\n",
       "    .dataframe thead th {\n",
       "        text-align: right;\n",
       "    }\n",
       "</style>\n",
       "<table border=\"1\" class=\"dataframe\">\n",
       "  <thead>\n",
       "    <tr style=\"text-align: right;\">\n",
       "      <th></th>\n",
       "      <th>hypertension</th>\n",
       "      <th>diabetes</th>\n",
       "      <th>alcoholism</th>\n",
       "      <th>no_show</th>\n",
       "    </tr>\n",
       "  </thead>\n",
       "  <tbody>\n",
       "  </tbody>\n",
       "</table>\n",
       "</div>"
      ],
      "text/plain": [
       "Empty DataFrame\n",
       "Columns: [hypertension, diabetes, alcoholism, no_show]\n",
       "Index: []"
      ]
     },
     "execution_count": 14,
     "metadata": {},
     "output_type": "execute_result"
    }
   ],
   "source": [
    "df.rename(columns={'No-show':'No_show','Hipertension':'Hypertension'},inplace=True) #correct the spellings\n",
    "\n",
    "df.rename(columns=lambda x: x.strip().lower(),inplace=True) #change all coloumn names to lowercase\n",
    "\n",
    "df.head(0) #check that the spellings are correct and columns are all lowercase"
   ]
  },
  {
   "cell_type": "markdown",
   "metadata": {},
   "source": [
    "The unnecessary columns have been dropped, and the columns are now spelled correctly and in all lowercase for easy reference."
   ]
  },
  {
   "cell_type": "markdown",
   "metadata": {},
   "source": [
    "Now we'll convert no_show's Yes and No values to 1 and 0, respectively."
   ]
  },
  {
   "cell_type": "code",
   "execution_count": 15,
   "metadata": {},
   "outputs": [],
   "source": [
    "df['no_show'].replace(('Yes','No'),(1,0),inplace=True) #replace Yes and No with 1 and 0"
   ]
  },
  {
   "cell_type": "code",
   "execution_count": 16,
   "metadata": {
    "scrolled": true
   },
   "outputs": [],
   "source": [
    "df['no_show'] = df['no_show'].astype(int) #convert no_show's datatype to integer"
   ]
  },
  {
   "cell_type": "markdown",
   "metadata": {},
   "source": [
    "Now that no_show's conversion is complete, we can use describe() again and it should now include the statistics of the number of no-shows to appointments"
   ]
  },
  {
   "cell_type": "code",
   "execution_count": 17,
   "metadata": {
    "scrolled": false
   },
   "outputs": [
    {
     "data": {
      "text/html": [
       "<div>\n",
       "<style scoped>\n",
       "    .dataframe tbody tr th:only-of-type {\n",
       "        vertical-align: middle;\n",
       "    }\n",
       "\n",
       "    .dataframe tbody tr th {\n",
       "        vertical-align: top;\n",
       "    }\n",
       "\n",
       "    .dataframe thead th {\n",
       "        text-align: right;\n",
       "    }\n",
       "</style>\n",
       "<table border=\"1\" class=\"dataframe\">\n",
       "  <thead>\n",
       "    <tr style=\"text-align: right;\">\n",
       "      <th></th>\n",
       "      <th>hypertension</th>\n",
       "      <th>diabetes</th>\n",
       "      <th>alcoholism</th>\n",
       "      <th>no_show</th>\n",
       "    </tr>\n",
       "  </thead>\n",
       "  <tbody>\n",
       "    <tr>\n",
       "      <th>count</th>\n",
       "      <td>83147.000000</td>\n",
       "      <td>83147.000000</td>\n",
       "      <td>83147.000000</td>\n",
       "      <td>83147.000000</td>\n",
       "    </tr>\n",
       "    <tr>\n",
       "      <th>mean</th>\n",
       "      <td>0.261741</td>\n",
       "      <td>0.094916</td>\n",
       "      <td>0.040122</td>\n",
       "      <td>0.196303</td>\n",
       "    </tr>\n",
       "    <tr>\n",
       "      <th>std</th>\n",
       "      <td>0.439585</td>\n",
       "      <td>0.293101</td>\n",
       "      <td>0.196246</td>\n",
       "      <td>0.397203</td>\n",
       "    </tr>\n",
       "    <tr>\n",
       "      <th>min</th>\n",
       "      <td>0.000000</td>\n",
       "      <td>0.000000</td>\n",
       "      <td>0.000000</td>\n",
       "      <td>0.000000</td>\n",
       "    </tr>\n",
       "    <tr>\n",
       "      <th>25%</th>\n",
       "      <td>0.000000</td>\n",
       "      <td>0.000000</td>\n",
       "      <td>0.000000</td>\n",
       "      <td>0.000000</td>\n",
       "    </tr>\n",
       "    <tr>\n",
       "      <th>50%</th>\n",
       "      <td>0.000000</td>\n",
       "      <td>0.000000</td>\n",
       "      <td>0.000000</td>\n",
       "      <td>0.000000</td>\n",
       "    </tr>\n",
       "    <tr>\n",
       "      <th>75%</th>\n",
       "      <td>1.000000</td>\n",
       "      <td>0.000000</td>\n",
       "      <td>0.000000</td>\n",
       "      <td>0.000000</td>\n",
       "    </tr>\n",
       "    <tr>\n",
       "      <th>max</th>\n",
       "      <td>1.000000</td>\n",
       "      <td>1.000000</td>\n",
       "      <td>1.000000</td>\n",
       "      <td>1.000000</td>\n",
       "    </tr>\n",
       "  </tbody>\n",
       "</table>\n",
       "</div>"
      ],
      "text/plain": [
       "       hypertension      diabetes    alcoholism       no_show\n",
       "count  83147.000000  83147.000000  83147.000000  83147.000000\n",
       "mean       0.261741      0.094916      0.040122      0.196303\n",
       "std        0.439585      0.293101      0.196246      0.397203\n",
       "min        0.000000      0.000000      0.000000      0.000000\n",
       "25%        0.000000      0.000000      0.000000      0.000000\n",
       "50%        0.000000      0.000000      0.000000      0.000000\n",
       "75%        1.000000      0.000000      0.000000      0.000000\n",
       "max        1.000000      1.000000      1.000000      1.000000"
      ]
     },
     "execution_count": 17,
     "metadata": {},
     "output_type": "execute_result"
    }
   ],
   "source": [
    "df.describe()"
   ]
  },
  {
   "cell_type": "markdown",
   "metadata": {},
   "source": [
    "This concludes the data cleaning, and we can now use our data for analysis in the next section"
   ]
  },
  {
   "cell_type": "markdown",
   "metadata": {},
   "source": [
    "<a id='eda'></a>\n",
    "## Exploratory Data Analysis"
   ]
  },
  {
   "cell_type": "markdown",
   "metadata": {},
   "source": [
    "Before we begin analyzing, we'll be defining two functions for bar graph visualizations to save us time for research questions 1 and 2:"
   ]
  },
  {
   "cell_type": "code",
   "execution_count": 18,
   "metadata": {},
   "outputs": [],
   "source": [
    "def plot_simple(condition):\n",
    "    '''this function aims to take one medical condition as a parameter, and create a bar graph\n",
    "    that shows the rate of no-shows between patients who have and don't have that condition'''\n",
    "    df.groupby([condition])['no_show'].mean().plot(kind='bar').set_ylabel('No-Show rate')"
   ]
  },
  {
   "cell_type": "code",
   "execution_count": 19,
   "metadata": {},
   "outputs": [],
   "source": [
    "def plot_bar(cond1, cond2, cond3, cond4, label1, label2, label3, label4): \n",
    "    '''This function is for a bar graph that takes four no-show rates \n",
    "    (one for each medical condition/combo + one \"control\"),as well as their desired labels for customizability'''\n",
    "    plt.bar(1, cond1*100, 1, color='k')  #plot the bars using the no-show rates, each a different color\n",
    "    plt.bar(2, cond2*100, 1, color='r')  #no-show rates are multiplied by 100 to show a percentage rate\n",
    "    plt.bar(3, cond3*100, 1, color='b')\n",
    "    plt.bar(4, cond4*100, 1, color='g')\n",
    "    \n",
    "    plt.xticks([1,2,3,4], [label1,label2,label3,label4],rotation=50)  #set bar labels using the label input\n",
    "    plt.xlabel('Medical Condition(s)') #set labels for the entire bar graph, these should be the same across all bar graphs.\n",
    "    plt.ylabel('No-show rate (%)')"
   ]
  },
  {
   "cell_type": "markdown",
   "metadata": {},
   "source": [
    "Our final research question will use a line plot only once, so we'll opt out of creating a function for that."
   ]
  },
  {
   "cell_type": "markdown",
   "metadata": {},
   "source": [
    "### What medical condition, if any, appears to result in the highest rate of no-shows with adult patients?"
   ]
  },
  {
   "cell_type": "markdown",
   "metadata": {},
   "source": [
    "First, we'll compare the rates of no-shows for each single medical condition individually by plotting simple bar graphs using our first function defined above, starting with alcoholism."
   ]
  },
  {
   "cell_type": "code",
   "execution_count": 20,
   "metadata": {},
   "outputs": [
    {
     "data": {
      "image/png": "[encoded data removed]",
      "text/plain": [
       "<matplotlib.figure.Figure at 0x7f118d290c50>"
      ]
     },
     "metadata": {
      "needs_background": "light"
     },
     "output_type": "display_data"
    }
   ],
   "source": [
    "plot_simple('alcoholism')"
   ]
  },
  {
   "cell_type": "markdown",
   "metadata": {},
   "source": [
    "Patients without alcoholism have nearly the same rate of no-showing as those with alcoholism. Next, we'll take a look at hypertension."
   ]
  },
  {
   "cell_type": "code",
   "execution_count": 21,
   "metadata": {},
   "outputs": [
    {
     "data": {
      "image/png": "[encoded data removed]",
      "text/plain": [
       "<matplotlib.figure.Figure at 0x7f118cd07240>"
      ]
     },
     "metadata": {
      "needs_background": "light"
     },
     "output_type": "display_data"
    }
   ],
   "source": [
    "plot_simple('hypertension')"
   ]
  },
  {
   "cell_type": "markdown",
   "metadata": {},
   "source": [
    "Unlike alcoholism, patients without hypertension have a noticeably higher no-show rate than patients with hypertension.  However, taking into consideration the scale of the y-axis, the difference is not a massive percentage. We'll now look at diabetes."
   ]
  },
  {
   "cell_type": "code",
   "execution_count": 22,
   "metadata": {},
   "outputs": [
    {
     "data": {
      "image/png": "[encoded data removed]",
      "text/plain": [
       "<matplotlib.figure.Figure at 0x7f118cc88fd0>"
      ]
     },
     "metadata": {
      "needs_background": "light"
     },
     "output_type": "display_data"
    }
   ],
   "source": [
    "plot_simple('diabetes')"
   ]
  },
  {
   "cell_type": "markdown",
   "metadata": {},
   "source": [
    "The diabetes plot looks more similar to hypertension than alcoholism: patients with diabetes have a lower no-show rate than their diabetic counterpart. "
   ]
  },
  {
   "cell_type": "markdown",
   "metadata": {},
   "source": [
    "For the last part of this question, we'll create some new dataframes that focus on the presence of each medical condition. Each dataframe will contain the rows where a given medical condition has a value of 1, indicating that the patient had that condition.  We'll also have a \"control\" dataframe where none of the patients have any medical condition."
   ]
  },
  {
   "cell_type": "code",
   "execution_count": 23,
   "metadata": {},
   "outputs": [],
   "source": [
    "df_none = df.query('hypertension == 0 and diabetes == 0 and alcoholism == 0') #make a dataframe for only patients \n",
    "                                                                                #with no conditions\n",
    "    \n",
    "df_hypertension = df.query('hypertension == 1') #make a dataframe for only patients with hypertension\n",
    "df_diabetes = df.query('diabetes == 1') #make a dataframe for only patients with diabetes\n",
    "df_alcoholism = df.query('alcoholism == 1') #make a dataframe for only patients with alcoholism"
   ]
  },
  {
   "cell_type": "markdown",
   "metadata": {},
   "source": [
    "Now, we'll grab the means of \"no_show\" from each dataframe. We will assign these means to variables, each representing the rate at which patients with a given medical condition (or none at all) no-show to their appointments."
   ]
  },
  {
   "cell_type": "code",
   "execution_count": 24,
   "metadata": {},
   "outputs": [],
   "source": [
    "#to avoid needlessly long names, we'll use the first 3 letters of the medical condition and append it with _rate\n",
    "non_rate = df_none['no_show'].mean()  #grab the rate of no-shows from patients with no medical conditions\n",
    "hyp_rate = df_hypertension['no_show'].mean()  #grab the rate of no-shows from patients with hypertension\n",
    "dia_rate = df_diabetes['no_show'].mean()  #grab the rate of no-shows from patients with diabetes\n",
    "alc_rate = df_alcoholism['no_show'].mean()  #grab the rate of no-shows from patients with alcoholism"
   ]
  },
  {
   "cell_type": "markdown",
   "metadata": {},
   "source": [
    "We can now use these variables as inputs to our other function defined earlier.\n",
    "\n",
    "We'll plug in our no_show means and choose the appropriate label names to correspond with each mean:"
   ]
  },
  {
   "cell_type": "code",
   "execution_count": 25,
   "metadata": {},
   "outputs": [
    {
     "data": {
      "image/png": "[encoded data removed]",
      "text/plain": [
       "<matplotlib.figure.Figure at 0x7f118bec19e8>"
      ]
     },
     "metadata": {
      "needs_background": "light"
     },
     "output_type": "display_data"
    }
   ],
   "source": [
    "plot_bar(non_rate, hyp_rate, dia_rate, alc_rate, 'No Conditions','Hypertension','Diabetes','Alcoholism')"
   ]
  },
  {
   "cell_type": "markdown",
   "metadata": {},
   "source": [
    "Our bar graph above reveals that although patients with alcholism have a higher rate of no-showing to their appointment than patients with diabetes and even moreso than patients with hypertension, the patients with no medical conditions actually have the highest rate of no-showing.  \n",
    "\n",
    "From this visualization, we can conclude that from the dataset provided, patients with no medical conditions have the highest rate of no-showing to their appointment, followed by patients with alcoholism, patients with diabetes, and then patients with hypertension having the lowest no-show rate, or the highest attendance rate. This isn't to say that having no medical conditions will cause patients to no-show more frequently than patients with alcoholism, hypertension, or diabetes, but that this is simply what's represented by the dataset."
   ]
  },
  {
   "cell_type": "markdown",
   "metadata": {},
   "source": [
    "### For any given medical condition, does the patient having additional conditions on top of that lead to a significant change in the rate of no-showing to the appointment?"
   ]
  },
  {
   "cell_type": "markdown",
   "metadata": {},
   "source": [
    "We'll now explore the relationships that medical conditions have with the rate of no-shows when medical conditions are layered on top of each other.  For example, when analyzing alcoholism, we'll be comparing the rate of no-shows between patients with only alchoholism, alcoholism with another medical condition, and alcoholism with both other medical conditions. "
   ]
  },
  {
   "cell_type": "markdown",
   "metadata": {},
   "source": [
    "We need to start by creating the necessary dataframes. I'll also be noting any overlaps so we don't create redundant frames.\n",
    "\n",
    "We'll be creating a dataframe for patients with:\n",
    "* only alcoholism\n",
    "* only diabetes\n",
    "* only hypertension\n",
    "* alcoholism and diabetes (overlaps with diabetes/alcoholism)\n",
    "* alcoholism and hypertension (overlaps with hypertension/alcoholism)\n",
    "* diabetes and hypertension (overlaps with hypertension/diabetes)\n",
    "* alcoholism, diabetes and hypertension (overlaps with any combo involving all three)"
   ]
  },
  {
   "cell_type": "markdown",
   "metadata": {},
   "source": [
    "Before we create the dataframes, we can define a function that makes creating them less redundant:"
   ]
  },
  {
   "cell_type": "code",
   "execution_count": 26,
   "metadata": {},
   "outputs": [],
   "source": [
    "def new_df(*conds):  \n",
    "    '''the function will be used for creating a new dataframe for specific \n",
    "    combinations of the presence/lack of alcoholism, diabetes, and hypertension in patients'''\n",
    "    query='alcoholism == 0 and hypertension == 0 and diabetes == 0' #default query\n",
    "    if 'alcoholism' in conds:  \n",
    "        query = query.replace('alcoholism == 0','alcoholism == 1') #if asked, will query patients with alocholism \n",
    "    if 'hypertension' in conds:\n",
    "        query = query.replace('hypertension == 0','hypertension == 1') #if asked, will query patients with hypertension\n",
    "    if 'diabetes' in conds:\n",
    "        query = query.replace('diabetes == 0','diabetes == 1') #if asked, will query patients with diabetes\n",
    "        \n",
    "    return df.query(query)  #return the results to be assigned to a new dataframe."
   ]
  },
  {
   "cell_type": "markdown",
   "metadata": {},
   "source": [
    "Now that we've created our function, we'll go down the list from above and create each new dataframe. The dataframes with be named df_ and the first letter of the present medical conditions, alphabetically. For example, the patients with only alcoholism will be put into a dataframe named df_a"
   ]
  },
  {
   "cell_type": "code",
   "execution_count": 27,
   "metadata": {},
   "outputs": [],
   "source": [
    "#create all necessary dataframes with the naming convention df_abbreviation\n",
    "df_a = new_df('alcoholism')\n",
    "df_d = new_df('diabetes')\n",
    "df_h = new_df('hypertension')\n",
    "df_ad = new_df('alcoholism','diabetes')\n",
    "df_ah = new_df('alcoholism','hypertension')\n",
    "df_dh = new_df('diabetes','hypertension')\n",
    "df_adh = new_df('alcoholism','diabetes','hypertension')"
   ]
  },
  {
   "cell_type": "markdown",
   "metadata": {},
   "source": [
    "We still need the means, or no-show rates for each dataframe. We'll calculate and assign the means in the next cell.\n",
    "\n",
    "Our naming convention will be the abbreviation used by the dataframe, appended with _rate, similarly to what we did in the previous research question."
   ]
  },
  {
   "cell_type": "code",
   "execution_count": 28,
   "metadata": {},
   "outputs": [],
   "source": [
    "a_rate = df_a['no_show'].mean()\n",
    "d_rate = df_d['no_show'].mean()\n",
    "h_rate = df_h['no_show'].mean()\n",
    "ad_rate = df_ad['no_show'].mean()\n",
    "ah_rate = df_ah['no_show'].mean()\n",
    "dh_rate = df_dh['no_show'].mean()\n",
    "adh_rate = df_adh['no_show'].mean()"
   ]
  },
  {
   "cell_type": "markdown",
   "metadata": {},
   "source": [
    "Now that we've created our dataframes and extracted the no-show rates , we can re-use our plotting function from before to compare the different combinations for each medical condition."
   ]
  },
  {
   "cell_type": "markdown",
   "metadata": {},
   "source": [
    "We'll start with alcoholism: patients with only alcoholism, alcoholism and another medical condition, and then all three conditions."
   ]
  },
  {
   "cell_type": "code",
   "execution_count": 29,
   "metadata": {},
   "outputs": [
    {
     "data": {
      "image/png": "[encoded data removed]",
      "text/plain": [
       "<matplotlib.figure.Figure at 0x7f118becd5f8>"
      ]
     },
     "metadata": {
      "needs_background": "light"
     },
     "output_type": "display_data"
    }
   ],
   "source": [
    "plot_bar(a_rate,ad_rate,ah_rate,adh_rate, #plot a bar graph using the alcoholism groups\n",
    "         'Only Alcoholism','Alcoholism & Diabetes','Alcoholism & Hypertension','All Three Conditions')"
   ]
  },
  {
   "cell_type": "markdown",
   "metadata": {},
   "source": [
    "The bar graph reveals that of the different groups of patients with alcoholism, patients with only alcoholism have the highest no-show rate to their appointment. Patients with alcoholism and diabetes have the lowest no-show rate. The difference in these rates, however, are extremely small; it is less than 5%."
   ]
  },
  {
   "cell_type": "markdown",
   "metadata": {},
   "source": [
    "Next, we'll take a look at the groups with diabetes."
   ]
  },
  {
   "cell_type": "code",
   "execution_count": 30,
   "metadata": {},
   "outputs": [
    {
     "data": {
      "image/png": "[encoded data removed]",
      "text/plain": [
       "<matplotlib.figure.Figure at 0x7f118bda49e8>"
      ]
     },
     "metadata": {
      "needs_background": "light"
     },
     "output_type": "display_data"
    }
   ],
   "source": [
    "plot_bar(d_rate,ad_rate,dh_rate,adh_rate, #plot a bar graph using the hypertension groups\n",
    "         'Only Diabetes','Diabetes & Alcoholism','Diabetes & Hypertension','All Three Conditions')"
   ]
  },
  {
   "cell_type": "markdown",
   "metadata": {},
   "source": [
    "Much like alcoholism, the group of patients with only diabetes had the highest rate of no-showing to their appointment, but the difference among the groups is still not major by any means. "
   ]
  },
  {
   "cell_type": "markdown",
   "metadata": {},
   "source": [
    "Lastly, we'll be graphing the hypertension groups with the same bar graph function previously used."
   ]
  },
  {
   "cell_type": "code",
   "execution_count": 31,
   "metadata": {},
   "outputs": [
    {
     "data": {
      "image/png": "[encoded data removed]",
      "text/plain": [
       "<matplotlib.figure.Figure at 0x7f118bd35358>"
      ]
     },
     "metadata": {
      "needs_background": "light"
     },
     "output_type": "display_data"
    }
   ],
   "source": [
    "plot_bar(h_rate,ah_rate,dh_rate,adh_rate, #plot a bar graph using the hypertension groups\n",
    "         'Only Hypertension','Hypertension & Alcoholism','Hypertension & Diabetes','All Three Conditions')"
   ]
  },
  {
   "cell_type": "markdown",
   "metadata": {},
   "source": [
    "Unlike the last two bar graphs, the patient group with *only* the condition in question had the lowest rate of no-shows.  In this case, the group with Hypertension and Alcoholism, but not Diabetes, had the highest rate of no-shows.  However, similarly to what we've found in the previous groups, there is no significant difference in the rate of no-shows between any of the groups."
   ]
  },
  {
   "cell_type": "markdown",
   "metadata": {},
   "source": [
    "\n",
    "\n",
    "### Does having more medical conditions appear to correlate with a higher rate of no-shows from adult patients?"
   ]
  },
  {
   "cell_type": "markdown",
   "metadata": {},
   "source": [
    "Our previous question viewed the relationship between medical conditions and no-show rates through several lenses that focused on one medical condition each. Now, we'll be looking at the no-show rates between groups of patients that have a certain number of any of the medical conditions, and see if the total number of conditions appears to have any correlation with the rate of no-shows."
   ]
  },
  {
   "cell_type": "markdown",
   "metadata": {},
   "source": [
    "We will now group patients by how many conditions they have. We'll need the following subsets of patients in separate dataframes:\n",
    "\n",
    "* patients with no medical conditions\n",
    "* patients with only one condition\n",
    "* patients with two conditions\n",
    "* patients with all three conditions\n",
    "\n",
    "We have already made the first and last required dataframes and extracted the rate of no-shows when we answered our previous research questions, but may need to rename them for consistency. For the remaining required dataframes, we will merge our dataframes from research question # 2 and then assign their means to variables after."
   ]
  },
  {
   "cell_type": "code",
   "execution_count": 32,
   "metadata": {},
   "outputs": [],
   "source": [
    "#first, we'll make the missing dataframes by appending/concat'ing the old dataframes to each other.\n",
    "df_one = pd.concat([df_a,df_d,df_h]) #combine the dataframes where patients only had one medical condition\n",
    "df_two = pd.concat([df_ah,df_ad,df_dh]) #combine the dataframes where patients had two medical conditions\n",
    "\n",
    "#df_none and df_three are not required since we already have the means/no-show rates from before.\n",
    " # we'll be reassigning new variable names for those values when we pull the means from our new dataframes."
   ]
  },
  {
   "cell_type": "markdown",
   "metadata": {},
   "source": [
    "Just to make sure no patient has been left behind through this process, let's grab the number of rows/entries from our main dataframes to ensure that no data has been left out."
   ]
  },
  {
   "cell_type": "code",
   "execution_count": 33,
   "metadata": {},
   "outputs": [
    {
     "data": {
      "text/plain": [
       "hypertension    True\n",
       "diabetes        True\n",
       "alcoholism      True\n",
       "no_show         True\n",
       "dtype: bool"
      ]
     },
     "execution_count": 33,
     "metadata": {},
     "output_type": "execute_result"
    }
   ],
   "source": [
    "df.count() == pd.concat([df_none,df_one,df_two,df_adh]).count() \n",
    "\n",
    "#this compares the number of entries for each column in our original dataframe (after cutting out underaged patients)\n",
    "# with the total number of entries for each column across our separated groups of patients.  This should return \"True\"\n",
    "# for all columns.\n"
   ]
  },
  {
   "cell_type": "markdown",
   "metadata": {},
   "source": [
    "Now that we've created our dataframes and verified that all patients have been separated and grouped correctly, we will grab the means of the no-show column in our new dataframes and assign a more consistently-named variable for the means calculated in previous sections."
   ]
  },
  {
   "cell_type": "code",
   "execution_count": 34,
   "metadata": {},
   "outputs": [],
   "source": [
    "#for ease of interpretation, we want the means/no-show rates to be \n",
    "# named using the format rate_#, where # is the number of medical conditions.\n",
    "\n",
    "rate_0 = non_rate  #we've already calculated the rate of no-shows from patients with no med. conditions, so we just reassign.\n",
    "rate_1 = df_one['no_show'].mean() #calculate and assign the rate of no-shows from patients with only one med. condition.\n",
    "rate_2 = df_two['no_show'].mean() #calculate and assign the rate of no-shows from patients with exactly two med. conditions.\n",
    "rate_3 = adh_rate #we've already calculated the rate of no-shows from patients with all three med. conditions."
   ]
  },
  {
   "cell_type": "markdown",
   "metadata": {},
   "source": [
    "Now that we have the rates of no-shows organized by how many medical conditions the patients have, we can place the values on a line plot to see if there's any clear incline or decline, suggesting some sort of relationship between the number of medical conditions a patient has and the likelihood that they will no-show to their appointment."
   ]
  },
  {
   "cell_type": "code",
   "execution_count": 35,
   "metadata": {},
   "outputs": [
    {
     "data": {
      "text/plain": [
       "[<matplotlib.lines.Line2D at 0x7f118bcc5630>]"
      ]
     },
     "execution_count": 35,
     "metadata": {},
     "output_type": "execute_result"
    },
    {
     "data": {
      "image/png": "[encoded data removed]",
      "text/plain": [
       "<matplotlib.figure.Figure at 0x7f118bdc5358>"
      ]
     },
     "metadata": {
      "needs_background": "light"
     },
     "output_type": "display_data"
    }
   ],
   "source": [
    "#plot a simple lineplot using the rates created above.\n",
    "# this is the only time we'll be using this type of plot, so we'll code \n",
    "# it out in this cell rather than defining a whole function for it.\n",
    "\n",
    "x = [1, 2, 3, 4]\n",
    "y = [rate_0*100, rate_1*100, rate_2*100, rate_3*100]\n",
    "plt.xticks(x,['None','One','Two','Three'])\n",
    "plt.xlabel('Number Of Conditions')\n",
    "plt.ylabel('Rate Of No-Showing')\n",
    "plt.title('Relationship Between Number Of Medical Conditions vs Rate of Patient No-Show')\n",
    "plt.plot(x,y)"
   ]
  },
  {
   "cell_type": "markdown",
   "metadata": {},
   "source": [
    "Our graph shows that although the rate at which patients no-show to their appointment decreases if they have one medical condition instead of none, this trend does not continue as the number of medical conditions increases.\n",
    "\n",
    "Patients with no medical conditions have the highest rate of no-showing to their appointment, and patients with one medical condition have the lowest rate of no-showing to their appointment, but even this difference appears to be very insignificant: less than 3% according to the visualization."
   ]
  },
  {
   "cell_type": "markdown",
   "metadata": {},
   "source": [
    "<a id='conclusions'></a>\n",
    "## Conclusions\n",
    "\n",
    "To summarize our findings, it appears that having any single, combination, or lack of the medical conditions alcoholism, hypertension, and/or diabetes is not a reliable way to predict whether or not a patient will no-show to their appointment, as there is no significant difference in the rate of no-shows between the different groups of patients, nor is there a strong correlation between the number of medical conditions patients have and the rate at which those patients no-showed to their appointment. This conclusion is only based off the data provided, and is not representative of the no-show rates of appointments outside of the dataset.\n",
    "\n",
    "### Limitation\n",
    "\n",
    "One clear limitation when exploring our research questions was that we were only provided three medical conditions to work with: alcoholism, diabetes, and hypertension.  Although we can claim that having any single or combination of these medical conditions does not correlate with a higher rate of no-shows, it's difficult to conclude that no amount of medical conditions will have an impact on the rate of no-shows, or that no unlisted medical condition could single-handedly lead to a higher rate of no-shows by afflicted patients.  Had the study collected data on a wider variety of debilitating medical conditions, our findings may have been vastly different."
   ]
  }
 ],
 "metadata": {
  "kernelspec": {
   "display_name": "Python 3 (ipykernel)",
   "language": "python",
   "name": "python3"
  },
  "language_info": {
   "codemirror_mode": {
    "name": "ipython",
    "version": 3
   },
   "file_extension": ".py",
   "mimetype": "text/x-python",
   "name": "python",
   "nbconvert_exporter": "python",
   "pygments_lexer": "ipython3",
   "version": "3.9.7"
  }
 },
 "nbformat": 4,
 "nbformat_minor": 2
}
